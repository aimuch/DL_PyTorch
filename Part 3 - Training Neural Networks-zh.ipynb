{
 "cells": [
  {
   "cell_type": "markdown",
   "metadata": {},
   "source": [
    "# 训练神经网络\n",
    "\n",
    "我们在上个部分构建的神经网络了解的信息很少，它不知道关于我们的手写数字的任何信息。具有非线性激活函数的神经网络就像通用函数逼近器一样。某些函数会将输入映射到输出。例如，将手写数字图像映射到类别概率。神经网络的强大之处是我们可以训练网络以逼近这个函数，基本上只要提供充足的数据和计算时间，任何函数都可以逼近。\n",
    "\n",
    "<img src=\"assets/function_approx.png\" width=500px>\n",
    "\n",
    "一开始网络很朴素，不知道将输入映射到输出的函数。我们通过向网络展示实际数据样本训练网络，然后调整网络参数，使其逼近此函数。\n",
    "\n",
    "要找到这些参数，我们需要了解网络预测真实输出的效果如何。为此，我们将计算**损失函数**（也称为成本），一种衡量预测错误的指标。例如，回归问题和二元分类问题经常使用均方损失\n",
    "\n",
    "$$\n",
    "\\ell = \\frac{1}{2n}\\sum_i^n{\\left(y_i - \\hat{y}_i\\right)^2}\n",
    "$$\n",
    "\n",
    "其中 $n$ 是训练样本的数量，$y_i$ 是真正的标签，$\\hat{y}_i$ 是预测标签。\n",
    "\n",
    "通过尽量减小相对于网络参数的这一损失，我们可以找到损失最低且网络能够以很高的准确率预测正确标签的配置。我们使用叫做**梯度下降法**的流程来寻找这一最低值。梯度是损失函数的斜率，指向变化最快的方向。要以最短的时间找到最低值，我们需要沿着梯度（向下）前进。可以将这一过程看做沿着最陡的路线下山。\n",
    "\n",
    "<img src='assets/gradient_descent.png' width=350px>\n",
    "\n",
    "## 反向传播\n",
    "\n",
    "对于单层网络，梯度下降法实现起来很简单。但是，对于更深、层级更多的神经网络（例如我们构建的网络），梯度下降法实现起来更复杂，以至于需要大约 30 年时间研究人员才能弄明白如何训练多层网络，虽然了解这一概念后会发现很简单。\n",
    "\n",
    "我们通过**反向传播**来实现，实际上是采用的微积分中的链式法则。最简单的理解方法是将两层网络转换为图形表示法。\n",
    "\n",
    "<img src='assets/w1_backprop_graph.png' width=400px>\n",
    "\n",
    "在网络的前向传递过程中，我们的数据和运算从右到左。要通过梯度下降法训练权重，我们沿着网络反向传播成本梯度。从数学角度来讲，其实就是使用链式法则计算相对于权重的损失梯度。\n",
    "\n",
    "$$\n",
    "\\frac{\\partial \\ell}{\\partial w_1} = \\frac{\\partial l_1}{\\partial w_1} \\frac{\\partial s}{\\partial l_1} \\frac{\\partial l_2}{\\partial s} \\frac{\\partial C}{\\partial l_2}\n",
    "$$\n",
    "\n",
    "我们使用此梯度和学习速率 $\\alpha$ 更新权重。\n",
    "\n",
    "$$\n",
    "w^\\prime = w - \\alpha \\frac{\\partial \\ell}{\\partial w}\n",
    "$$\n",
    "\n",
    "设置学习速率的方式是权重更新步长很小，使迭代方法能达到最小值。\n",
    "\n",
    "对于训练步骤来说，首先我们需要定义损失函数。在 PyTorch 中，通常你会看到它写成了 `criterion` 形式。在此例中，我们使用 softmax 输出，因此我们希望使用 `criterion = nn.CrossEntropyLoss()` 作为损失函数。稍后在训练时，你需要使用 `loss = criterion(output, targets)` 计算实际损失。\n",
    "\n",
    "我们还需要定义优化器，例如 SGD 或 Adam 等。我将使用 SGD，即 `torch.optim.SGD`，并传入网络参数和学习速率。\n",
    "\n",
    "## Autograd\n",
    "\n",
    "Torch 提供了模块 `autograd` 用于自动计算张量的梯度。计算方式是跟踪在张量上执行的运算。要让 PyTorch 跟踪运算，你需要使用 `torch.autograd` 的 `Variable` 类封装张量。你可以使用 Variable 的 `.data` 属性获取张量。\n",
    "\n",
    "我们使用 `z.backward()` 计算相对于变量 `z` 的梯度。这样会对创建 `z` 的运算进行反向传递。"
   ]
  },
  {
   "cell_type": "code",
   "execution_count": 1,
   "metadata": {},
   "outputs": [],
   "source": [
    "%matplotlib inline\n",
    "%config InlineBackend.figure_format = 'retina'\n",
    "\n",
    "import numpy as np\n",
    "import time\n",
    "\n",
    "import torch\n",
    "from torch import nn\n",
    "from torch import optim\n",
    "import torch.nn.functional as F\n",
    "from torch.autograd import Variable\n",
    "\n",
    "import helper"
   ]
  },
  {
   "cell_type": "code",
   "execution_count": 2,
   "metadata": {},
   "outputs": [
    {
     "name": "stdout",
     "output_type": "stream",
     "text": [
      "tensor([[ 0.0735,  1.2655],\n",
      "        [ 1.1033, -0.3890]])\n"
     ]
    }
   ],
   "source": [
    "x = torch.randn(2,2)\n",
    "x = Variable(x, requires_grad=True)\n",
    "print(x)"
   ]
  },
  {
   "cell_type": "code",
   "execution_count": 3,
   "metadata": {},
   "outputs": [
    {
     "name": "stdout",
     "output_type": "stream",
     "text": [
      "tensor([[ 0.0054,  1.6015],\n",
      "        [ 1.2173,  0.1514]])\n"
     ]
    }
   ],
   "source": [
    "y = x**2\n",
    "print(y)"
   ]
  },
  {
   "cell_type": "markdown",
   "metadata": {},
   "source": [
    "我们可以在下面看到创建 `y` 的运算，即幂运算 `PowBackward0`."
   ]
  },
  {
   "cell_type": "code",
   "execution_count": 4,
   "metadata": {},
   "outputs": [
    {
     "name": "stdout",
     "output_type": "stream",
     "text": [
      "<PowBackward0 object at 0x000001B26A4F1C88>\n"
     ]
    }
   ],
   "source": [
    "## grad_fn shows the function that generated this variable\n",
    "print(y.grad_fn)"
   ]
  },
  {
   "cell_type": "markdown",
   "metadata": {},
   "source": [
    "autgrad 模块会跟踪这些运算并知道如何为每个运算计算梯度。这样的话，它就能够计算一系列运算相对于任何一个张量的梯度。我们将张量 `y` 简化为标量值，即均值。"
   ]
  },
  {
   "cell_type": "code",
   "execution_count": 5,
   "metadata": {},
   "outputs": [
    {
     "name": "stdout",
     "output_type": "stream",
     "text": [
      "tensor(0.7439)\n"
     ]
    }
   ],
   "source": [
    "z = y.mean()\n",
    "print(z)"
   ]
  },
  {
   "cell_type": "markdown",
   "metadata": {},
   "source": [
    "你可以查看 `x` 和 `y` 的梯度，但是现在它们为空。"
   ]
  },
  {
   "cell_type": "code",
   "execution_count": 6,
   "metadata": {},
   "outputs": [
    {
     "name": "stdout",
     "output_type": "stream",
     "text": [
      "None\n"
     ]
    }
   ],
   "source": [
    "print(x.grad)"
   ]
  },
  {
   "cell_type": "markdown",
   "metadata": {},
   "source": [
    "要计算梯度，你需要对 Variable（例如 `z`）运行 `.backward` 方法。这样会计算 `z` 相对于 `x` 的梯度\n",
    "\n",
    "$$\n",
    "\\frac{\\partial z}{\\partial x} = \\frac{\\partial}{\\partial x}\\left[\\frac{1}{n}\\sum_i^n x_i^2\\right] = \\frac{x}{2}\n",
    "$$"
   ]
  },
  {
   "cell_type": "code",
   "execution_count": 7,
   "metadata": {},
   "outputs": [
    {
     "name": "stdout",
     "output_type": "stream",
     "text": [
      "tensor([[ 0.0368,  0.6328],\n",
      "        [ 0.5516, -0.1945]])\n",
      "tensor([[ 0.0368,  0.6328],\n",
      "        [ 0.5516, -0.1945]])\n"
     ]
    }
   ],
   "source": [
    "z.backward()\n",
    "print(x.grad)\n",
    "print(x/2)"
   ]
  },
  {
   "cell_type": "markdown",
   "metadata": {},
   "source": [
    "这些梯度运算对神经网络来说尤其有用。对于训练来说，我们需要得出权重相对于成本的梯度。对于 PyTorch，我们在网络中向前运行数据以计算成本，然后向后传播以计算相对于成本的梯度。得出梯度后，我们可以执行梯度下降步。\n",
    "\n",
    "## 训练网络！\n",
    "\n",
    "对于训练步骤来说，首先我们需要定义损失函数。在 PyTorch 中，通常你会看到它写成了 `criterion` 形式。在此例中，我们使用 softmax 输出，因此我们希望使用 `criterion = nn.CrossEntropyLoss()` 作为损失函数。稍后在训练时，你需要使用 `loss = criterion(output, targets)` 计算实际损失。\n",
    "\n",
    "我们还需要定义优化器，例如 SGD 或 Adam 等。我将使用 SGD，即 `torch.optim.SGD`，并传入网络参数和学习速率。"
   ]
  },
  {
   "cell_type": "code",
   "execution_count": 8,
   "metadata": {},
   "outputs": [],
   "source": [
    "from torchvision import datasets, transforms\n",
    "\n",
    "# Define a transform to normalize the data\n",
    "transform = transforms.Compose([transforms.ToTensor(),\n",
    "                              transforms.Normalize((0.5, 0.5, 0.5), (0.5, 0.5, 0.5)),\n",
    "                             ])\n",
    "# Download and load the training data\n",
    "trainset = datasets.MNIST('MNIST_data/', download=True, train=True, transform=transform)\n",
    "trainloader = torch.utils.data.DataLoader(trainset, batch_size=64, shuffle=True)\n",
    "\n",
    "# Download and load the test data\n",
    "testset = datasets.MNIST('MNIST_data/', download=True, train=False, transform=transform)\n",
    "testloader = torch.utils.data.DataLoader(testset, batch_size=64, shuffle=True)"
   ]
  },
  {
   "cell_type": "code",
   "execution_count": 9,
   "metadata": {},
   "outputs": [],
   "source": [
    "class Network(nn.Module):\n",
    "    def __init__(self):\n",
    "        super().__init__()\n",
    "        # Defining the layers, 200, 50, 10 units each\n",
    "        self.fc1 = nn.Linear(784, 200)\n",
    "        self.fc2 = nn.Linear(200, 50)\n",
    "        # Output layer, 10 units - one for each digit\n",
    "        self.fc3 = nn.Linear(50, 10)\n",
    "        \n",
    "    def forward(self, x):\n",
    "        ''' Forward pass through the network, returns the output logits '''\n",
    "        \n",
    "        x = self.fc1(x)\n",
    "        x = F.relu(x)\n",
    "        x = self.fc2(x)\n",
    "        x = F.relu(x)\n",
    "        x = self.fc3(x)\n",
    "        \n",
    "        return x\n",
    "    \n",
    "    def predict(self, x):\n",
    "        ''' This function for predicts classes by calculating the softmax '''\n",
    "        logits = self.forward(x)\n",
    "        return F.softmax(logits, dim=1)"
   ]
  },
  {
   "cell_type": "code",
   "execution_count": 10,
   "metadata": {},
   "outputs": [],
   "source": [
    "net = Network()\n",
    "criterion = nn.CrossEntropyLoss()\n",
    "optimizer = optim.SGD(net.parameters(), lr=0.01)"
   ]
  },
  {
   "cell_type": "markdown",
   "metadata": {},
   "source": [
    "首先我们只考虑一个学习步，然后再循环访问所有数据。PyTorch 的一般流程是：\n",
    "\n",
    "* 在网络中进行前向传递以获得 logits\n",
    "* 使用 logits 计算损失\n",
    "* 通过 `loss.backward()` 对网络进行反向传递以计算梯度\n",
    "* 用优化器执行一步以更新权重\n",
    "\n",
    "我将在下面完成一个训练步并输出权重和梯度，使你能够明白变化过程。"
   ]
  },
  {
   "cell_type": "code",
   "execution_count": 11,
   "metadata": {},
   "outputs": [
    {
     "name": "stdout",
     "output_type": "stream",
     "text": [
      "Initial weights -  Parameter containing:\n",
      "tensor([[ 2.1088e-02,  1.8358e-03, -2.2171e-02,  ...,  3.8362e-03,\n",
      "         -1.5846e-02, -3.3279e-02],\n",
      "        [ 2.1024e-02, -2.2619e-02,  1.3037e-02,  ...,  1.6601e-02,\n",
      "         -4.4771e-03, -3.1951e-02],\n",
      "        [-1.0838e-02,  1.1372e-02, -1.7293e-02,  ..., -2.6245e-02,\n",
      "         -2.9032e-02,  2.4627e-02],\n",
      "        ...,\n",
      "        [-1.6331e-02, -7.1365e-03, -1.8317e-02,  ..., -2.5206e-02,\n",
      "          1.9842e-03,  1.4412e-02],\n",
      "        [ 2.8125e-03,  1.9565e-02, -2.5002e-02,  ..., -3.4644e-02,\n",
      "         -2.3492e-02, -3.0985e-02],\n",
      "        [ 1.9736e-02,  1.7983e-02,  1.1638e-02,  ...,  3.4155e-02,\n",
      "         -5.8222e-03,  1.3188e-02]])\n",
      "Gradient - tensor(1.00000e-02 *\n",
      "       [[ 0.1956,  0.1956,  0.1956,  ...,  0.1956,  0.1956,  0.1956],\n",
      "        [-0.0982, -0.0982, -0.0982,  ..., -0.0982, -0.0982, -0.0982],\n",
      "        [-0.0039, -0.0039, -0.0039,  ..., -0.0039, -0.0039, -0.0039],\n",
      "        ...,\n",
      "        [ 0.2867,  0.2867,  0.2867,  ...,  0.2867,  0.2867,  0.2867],\n",
      "        [ 0.2576,  0.2576,  0.2576,  ...,  0.2576,  0.2576,  0.2576],\n",
      "        [-0.2765, -0.2765, -0.2765,  ..., -0.2765, -0.2765, -0.2765]])\n"
     ]
    }
   ],
   "source": [
    "print('Initial weights - ', net.fc1.weight)\n",
    "\n",
    "dataiter = iter(trainloader)\n",
    "images, labels = dataiter.next()\n",
    "\n",
    "images.resize_(64, 784)\n",
    "\n",
    "# Create Variables for the inputs and targets\n",
    "inputs = Variable(images)\n",
    "targets = Variable(labels)\n",
    "\n",
    "# Clear the gradients from all Variables\n",
    "optimizer.zero_grad()\n",
    "\n",
    "# Forward pass, then backward pass, then update weights\n",
    "output = net.forward(inputs)\n",
    "loss = criterion(output, targets)\n",
    "loss.backward()\n",
    "print('Gradient -', net.fc1.weight.grad)\n",
    "optimizer.step()"
   ]
  },
  {
   "cell_type": "code",
   "execution_count": 12,
   "metadata": {},
   "outputs": [
    {
     "name": "stdout",
     "output_type": "stream",
     "text": [
      "Updated weights -  Parameter containing:\n",
      "tensor([[ 2.1069e-02,  1.8163e-03, -2.2190e-02,  ...,  3.8167e-03,\n",
      "         -1.5865e-02, -3.3299e-02],\n",
      "        [ 2.1034e-02, -2.2609e-02,  1.3047e-02,  ...,  1.6611e-02,\n",
      "         -4.4673e-03, -3.1941e-02],\n",
      "        [-1.0837e-02,  1.1372e-02, -1.7293e-02,  ..., -2.6245e-02,\n",
      "         -2.9032e-02,  2.4627e-02],\n",
      "        ...,\n",
      "        [-1.6360e-02, -7.1651e-03, -1.8346e-02,  ..., -2.5235e-02,\n",
      "          1.9555e-03,  1.4383e-02],\n",
      "        [ 2.7867e-03,  1.9540e-02, -2.5028e-02,  ..., -3.4670e-02,\n",
      "         -2.3518e-02, -3.1011e-02],\n",
      "        [ 1.9764e-02,  1.8011e-02,  1.1665e-02,  ...,  3.4182e-02,\n",
      "         -5.7945e-03,  1.3215e-02]])\n"
     ]
    }
   ],
   "source": [
    "print('Updated weights - ', net.fc1.weight)"
   ]
  },
  {
   "cell_type": "markdown",
   "metadata": {},
   "source": [
    "### 实际训练\n",
    "\n",
    "现在，我们将此算法用于循环中，以便访问所有图像。很简单，我们将循环访问数据集的小批次数据，在网络中传递数据以计算损失，获得梯度，然后运行优化器。"
   ]
  },
  {
   "cell_type": "code",
   "execution_count": 13,
   "metadata": {},
   "outputs": [],
   "source": [
    "net = Network()\n",
    "optimizer = optim.Adam(net.parameters(), lr=0.001)"
   ]
  },
  {
   "cell_type": "code",
   "execution_count": 14,
   "metadata": {},
   "outputs": [
    {
     "name": "stderr",
     "output_type": "stream",
     "text": [
      "D:\\ProgramData\\Anaconda3\\envs\\pytorch\\lib\\site-packages\\ipykernel_launcher.py:21: UserWarning: invalid index of a 0-dim tensor. This will be an error in PyTorch 0.5. Use tensor.item() to convert a 0-dim tensor to a Python number\n",
      "D:\\ProgramData\\Anaconda3\\envs\\pytorch\\lib\\site-packages\\ipykernel_launcher.py:29: UserWarning: volatile was removed and now has no effect. Use `with torch.no_grad():` instead.\n"
     ]
    },
    {
     "name": "stdout",
     "output_type": "stream",
     "text": [
      "Epoch: 1/1 Loss: 1.9377 Test accuracy: 0.6518\n",
      "Epoch: 1/1 Loss: 1.0741 Test accuracy: 0.8150\n",
      "Epoch: 1/1 Loss: 0.6753 Test accuracy: 0.8410\n",
      "Epoch: 1/1 Loss: 0.5242 Test accuracy: 0.8651\n",
      "Epoch: 1/1 Loss: 0.4866 Test accuracy: 0.8757\n",
      "Epoch: 1/1 Loss: 0.4126 Test accuracy: 0.8557\n",
      "Epoch: 1/1 Loss: 0.4409 Test accuracy: 0.8883\n",
      "Epoch: 1/1 Loss: 0.4381 Test accuracy: 0.8951\n",
      "Epoch: 1/1 Loss: 0.4533 Test accuracy: 0.8952\n",
      "Epoch: 1/1 Loss: 0.3902 Test accuracy: 0.8916\n",
      "Epoch: 1/1 Loss: 0.3809 Test accuracy: 0.8833\n",
      "Epoch: 1/1 Loss: 0.3718 Test accuracy: 0.8857\n",
      "Epoch: 1/1 Loss: 0.3821 Test accuracy: 0.8960\n",
      "Epoch: 1/1 Loss: 0.3618 Test accuracy: 0.8951\n",
      "Epoch: 1/1 Loss: 0.3467 Test accuracy: 0.8854\n",
      "Epoch: 1/1 Loss: 0.3693 Test accuracy: 0.9021\n",
      "Epoch: 1/1 Loss: 0.2966 Test accuracy: 0.9049\n",
      "Epoch: 1/1 Loss: 0.3727 Test accuracy: 0.9058\n",
      "Epoch: 1/1 Loss: 0.3109 Test accuracy: 0.9128\n",
      "Epoch: 1/1 Loss: 0.3128 Test accuracy: 0.9131\n",
      "Epoch: 1/1 Loss: 0.3434 Test accuracy: 0.9076\n",
      "Epoch: 1/1 Loss: 0.3035 Test accuracy: 0.9055\n",
      "Epoch: 1/1 Loss: 0.2501 Test accuracy: 0.9216\n",
      "Epoch: 1/1 Loss: 0.2987 Test accuracy: 0.9094\n",
      "Epoch: 1/1 Loss: 0.3705 Test accuracy: 0.9202\n",
      "Epoch: 1/1 Loss: 0.2974 Test accuracy: 0.9195\n",
      "Epoch: 1/1 Loss: 0.2711 Test accuracy: 0.9208\n",
      "Epoch: 1/1 Loss: 0.2940 Test accuracy: 0.9157\n",
      "Epoch: 1/1 Loss: 0.2758 Test accuracy: 0.9107\n",
      "Epoch: 1/1 Loss: 0.2649 Test accuracy: 0.9163\n",
      "Epoch: 1/1 Loss: 0.2916 Test accuracy: 0.9141\n",
      "Epoch: 1/1 Loss: 0.2616 Test accuracy: 0.9287\n",
      "Epoch: 1/1 Loss: 0.2139 Test accuracy: 0.9315\n",
      "Epoch: 1/1 Loss: 0.2482 Test accuracy: 0.9307\n",
      "Epoch: 1/1 Loss: 0.2312 Test accuracy: 0.9153\n",
      "Epoch: 1/1 Loss: 0.2166 Test accuracy: 0.9266\n",
      "Epoch: 1/1 Loss: 0.2465 Test accuracy: 0.9265\n",
      "Epoch: 1/1 Loss: 0.2524 Test accuracy: 0.9270\n",
      "Epoch: 1/1 Loss: 0.2367 Test accuracy: 0.9190\n",
      "Epoch: 1/1 Loss: 0.2450 Test accuracy: 0.9309\n",
      "Epoch: 1/1 Loss: 0.2546 Test accuracy: 0.9242\n",
      "Epoch: 1/1 Loss: 0.2156 Test accuracy: 0.9354\n",
      "Epoch: 1/1 Loss: 0.2224 Test accuracy: 0.9329\n",
      "Epoch: 1/1 Loss: 0.2336 Test accuracy: 0.9247\n",
      "Epoch: 1/1 Loss: 0.2284 Test accuracy: 0.9377\n",
      "Epoch: 1/1 Loss: 0.2220 Test accuracy: 0.9395\n"
     ]
    }
   ],
   "source": [
    "epochs = 1\n",
    "steps = 0\n",
    "running_loss = 0\n",
    "print_every = 20\n",
    "for e in range(epochs):\n",
    "    for images, labels in iter(trainloader):\n",
    "        steps += 1\n",
    "        # Flatten MNIST images into a 784 long vector\n",
    "        images.resize_(images.size()[0], 784)\n",
    "        \n",
    "        # Wrap images and labels in Variables so we can calculate gradients\n",
    "        inputs = Variable(images)\n",
    "        targets = Variable(labels)\n",
    "        optimizer.zero_grad()\n",
    "        \n",
    "        output = net.forward(inputs)\n",
    "        loss = criterion(output, targets)\n",
    "        loss.backward()\n",
    "        optimizer.step()\n",
    "        \n",
    "        running_loss += loss.data[0]\n",
    "        \n",
    "        if steps % print_every == 0:\n",
    "            # Test accuracy\n",
    "            accuracy = 0\n",
    "            for ii, (images, labels) in enumerate(testloader):\n",
    "                \n",
    "                images = images.resize_(images.size()[0], 784)\n",
    "                inputs = Variable(images, volatile=True)\n",
    "                \n",
    "                predicted = net.predict(inputs).data\n",
    "                equality = (labels == predicted.max(1)[1])\n",
    "                accuracy += equality.type_as(torch.FloatTensor()).mean()\n",
    "            \n",
    "            print(\"Epoch: {}/{}\".format(e+1, epochs),\n",
    "                  \"Loss: {:.4f}\".format(running_loss/print_every),\n",
    "                  \"Test accuracy: {:.4f}\".format(accuracy/(ii+1)))\n",
    "            running_loss = 0"
   ]
  },
  {
   "cell_type": "code",
   "execution_count": 15,
   "metadata": {},
   "outputs": [],
   "source": [
    "dataiter = iter(testloader)\n",
    "images, labels = dataiter.next()"
   ]
  },
  {
   "cell_type": "code",
   "execution_count": 16,
   "metadata": {},
   "outputs": [
    {
     "data": {
      "image/png": "[encoded data removed]",
      "text/plain": [
       "<Figure size 432x648 with 2 Axes>"
      ]
     },
     "metadata": {
      "image/png": {
       "height": 224,
       "width": 423
      }
     },
     "output_type": "display_data"
    }
   ],
   "source": [
    "img = images[0]\n",
    "ps = net.predict(Variable(img.resize_(1, 784)))\n",
    "helper.view_classify(img.resize_(1, 28, 28), ps)"
   ]
  },
  {
   "cell_type": "markdown",
   "metadata": {},
   "source": [
    "我们的网络现在并不是一无所知了。它可以准确地预测图像中的数字。接着，你将编写用更复杂的数据集训练神经网络的代码。"
   ]
  }
 ],
 "metadata": {
  "kernelspec": {
   "display_name": "Python 3",
   "language": "python",
   "name": "python3"
  },
  "language_info": {
   "codemirror_mode": {
    "name": "ipython",
    "version": 3
   },
   "file_extension": ".py",
   "mimetype": "text/x-python",
   "name": "python",
   "nbconvert_exporter": "python",
   "pygments_lexer": "ipython3",
   "version": "3.6.5"
  }
 },
 "nbformat": 4,
 "nbformat_minor": 2
}
